{
 "metadata": {
  "language_info": {
   "codemirror_mode": {
    "name": "ipython",
    "version": 3
   },
   "file_extension": ".py",
   "mimetype": "text/x-python",
   "name": "python",
   "nbconvert_exporter": "python",
   "pygments_lexer": "ipython3",
   "version": "3.8.5-final"
  },
  "orig_nbformat": 2,
  "kernelspec": {
   "name": "python38264bit51c48295064448fc8d169801eff1bff9",
   "display_name": "Python 3.8.2 64-bit"
  }
 },
 "nbformat": 4,
 "nbformat_minor": 2,
 "cells": [
  {
   "cell_type": "code",
   "execution_count": 6,
   "metadata": {},
   "outputs": [],
   "source": [
    "import numpy as np\n",
    "import pandas as pd\n",
    "import matplotlib.pyplot as plt\n",
    "import matplotlib as mpl\n",
    "import seaborn as sns; sns.set()"
   ]
  },
  {
   "cell_type": "code",
   "execution_count": 7,
   "metadata": {},
   "outputs": [
    {
     "output_type": "execute_result",
     "data": {
      "text/plain": [
       "           confirmed         deaths  order_for_place  \\\n",
       "count  441580.000000  441580.000000    441580.000000   \n",
       "mean      434.457441      18.833450        45.693168   \n",
       "std      5535.380670     289.431766        29.934186   \n",
       "min         0.000000       0.000000         1.000000   \n",
       "25%         3.000000       0.000000        21.000000   \n",
       "50%        15.000000       0.000000        42.000000   \n",
       "75%        79.000000       2.000000        67.000000   \n",
       "max    529006.000000   22710.000000       155.000000   \n",
       "\n",
       "       estimated_population_2019  city_ibge_code  \\\n",
       "count               4.395410e+05    4.395410e+05   \n",
       "mean                1.224538e+05    3.157370e+06   \n",
       "std                 1.174799e+06    1.011723e+06   \n",
       "min                 7.810000e+02    1.100000e+01   \n",
       "25%                 7.173000e+03    2.500809e+06   \n",
       "50%                 1.584600e+04    3.136702e+06   \n",
       "75%                 3.511100e+04    4.106902e+06   \n",
       "max                 4.591905e+07    5.300108e+06   \n",
       "\n",
       "       confirmed_per_100k_inhabitants     death_rate  \n",
       "count                   429678.000000  441580.000000  \n",
       "mean                       360.807330       0.046762  \n",
       "std                        660.918303       0.128928  \n",
       "min                          0.002180       0.000000  \n",
       "25%                         28.946910       0.000000  \n",
       "50%                        118.868640       0.000000  \n",
       "75%                        408.120412       0.040000  \n",
       "max                      15717.926930       1.000000  "
      ],
      "text/html": "<div>\n<style scoped>\n    .dataframe tbody tr th:only-of-type {\n        vertical-align: middle;\n    }\n\n    .dataframe tbody tr th {\n        vertical-align: top;\n    }\n\n    .dataframe thead th {\n        text-align: right;\n    }\n</style>\n<table border=\"1\" class=\"dataframe\">\n  <thead>\n    <tr style=\"text-align: right;\">\n      <th></th>\n      <th>confirmed</th>\n      <th>deaths</th>\n      <th>order_for_place</th>\n      <th>estimated_population_2019</th>\n      <th>city_ibge_code</th>\n      <th>confirmed_per_100k_inhabitants</th>\n      <th>death_rate</th>\n    </tr>\n  </thead>\n  <tbody>\n    <tr>\n      <th>count</th>\n      <td>441580.000000</td>\n      <td>441580.000000</td>\n      <td>441580.000000</td>\n      <td>4.395410e+05</td>\n      <td>4.395410e+05</td>\n      <td>429678.000000</td>\n      <td>441580.000000</td>\n    </tr>\n    <tr>\n      <th>mean</th>\n      <td>434.457441</td>\n      <td>18.833450</td>\n      <td>45.693168</td>\n      <td>1.224538e+05</td>\n      <td>3.157370e+06</td>\n      <td>360.807330</td>\n      <td>0.046762</td>\n    </tr>\n    <tr>\n      <th>std</th>\n      <td>5535.380670</td>\n      <td>289.431766</td>\n      <td>29.934186</td>\n      <td>1.174799e+06</td>\n      <td>1.011723e+06</td>\n      <td>660.918303</td>\n      <td>0.128928</td>\n    </tr>\n    <tr>\n      <th>min</th>\n      <td>0.000000</td>\n      <td>0.000000</td>\n      <td>1.000000</td>\n      <td>7.810000e+02</td>\n      <td>1.100000e+01</td>\n      <td>0.002180</td>\n      <td>0.000000</td>\n    </tr>\n    <tr>\n      <th>25%</th>\n      <td>3.000000</td>\n      <td>0.000000</td>\n      <td>21.000000</td>\n      <td>7.173000e+03</td>\n      <td>2.500809e+06</td>\n      <td>28.946910</td>\n      <td>0.000000</td>\n    </tr>\n    <tr>\n      <th>50%</th>\n      <td>15.000000</td>\n      <td>0.000000</td>\n      <td>42.000000</td>\n      <td>1.584600e+04</td>\n      <td>3.136702e+06</td>\n      <td>118.868640</td>\n      <td>0.000000</td>\n    </tr>\n    <tr>\n      <th>75%</th>\n      <td>79.000000</td>\n      <td>2.000000</td>\n      <td>67.000000</td>\n      <td>3.511100e+04</td>\n      <td>4.106902e+06</td>\n      <td>408.120412</td>\n      <td>0.040000</td>\n    </tr>\n    <tr>\n      <th>max</th>\n      <td>529006.000000</td>\n      <td>22710.000000</td>\n      <td>155.000000</td>\n      <td>4.591905e+07</td>\n      <td>5.300108e+06</td>\n      <td>15717.926930</td>\n      <td>1.000000</td>\n    </tr>\n  </tbody>\n</table>\n</div>"
     },
     "metadata": {},
     "execution_count": 7
    }
   ],
   "source": [
    "# importando o dataset\n",
    "covid = pd.read_csv(r'caso.csv', encoding = \"utf-8\")\n",
    "covid.describe()"
   ]
  },
  {
   "cell_type": "code",
   "execution_count": 8,
   "metadata": {},
   "outputs": [],
   "source": [
    "covidSP = covid[covid.city=='São Paulo']\n",
    "covidSP = covidSP.sort_values(by=['date'], ascending=True)\n",
    "covidSP.reset_index(inplace=True, drop=True)\n",
    "\n",
    "covidRecife = covid[covid.city=='Recife']\n",
    "covidRecife = covidRecife.sort_values(by=['date'], ascending=True)\n",
    "covidRecife.reset_index(inplace=True, drop=True)\n"
   ]
  },
  {
   "cell_type": "code",
   "execution_count": 11,
   "metadata": {},
   "outputs": [
    {
     "output_type": "execute_result",
     "data": {
      "text/plain": [
       "15      16\n",
       "63      64\n",
       "40      41\n",
       "109    110\n",
       "60      61\n",
       "Name: order_for_place, dtype: int64"
      ]
     },
     "metadata": {},
     "execution_count": 11
    }
   ],
   "source": [
    "from sklearn.linear_model import LinearRegression\n",
    "from sklearn.model_selection import train_test_split\n",
    "from sklearn.linear_model import LinearRegression\n",
    "\n",
    "xTrain, xTest, yTrain, yTest = train_test_split(covidRecife.confirmed_per_100k_inhabitants, covidRecife.order_for_place, test_size = 1/3, random_state = 0)\n",
    "\n",
    "xTrain.head()\n"
   ]
  },
  {
   "cell_type": "code",
   "execution_count": null,
   "metadata": {},
   "outputs": [],
   "source": [
    "\n",
    "model = LinearRegression(fit_intercept=True)\n",
    "\n",
    "model.fit(covidRecife.order_for_place,  )\n",
    "\n",
    "\n",
    "\n",
    "xfit = np.linspace(0, 10, 1000)\n",
    "yfit = model.predict(xfit[:, np.newaxis])\n",
    "\n",
    "plt.scatter(x, y)\n",
    "plt.plot(xfit, yfit);"
   ]
  }
 ]
}